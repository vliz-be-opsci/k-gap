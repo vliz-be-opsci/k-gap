{
 "cells": [
  {
   "cell_type": "markdown",
   "metadata": {},
   "source": [
    "# SHACL Validation Example\n",
    "\n",
    "This notebook demonstrates how to use SHACL validation in K-GAP to validate RDF data in GraphDB.\n",
    "\n",
    "## Prerequisites\n",
    "\n",
    "1. GraphDB must be running and accessible\n",
    "2. SHACL shapes must be loaded into the repository\n",
    "3. Data to validate must be present in the repository\n",
    "\n",
    "## What is SHACL?\n",
    "\n",
    "SHACL (Shapes Constraint Language) is a W3C standard for validating RDF graphs against a set of conditions. It allows you to define the expected structure and constraints of your RDF data."
   ]
  },
  {
   "cell_type": "code",
   "execution_count": null,
   "metadata": {},
   "outputs": [],
   "source": [
    "# Import the SHACL validation module\n",
    "import sys\n",
    "sys.path.append('/workspace')  # Add workspace to path\n",
    "\n",
    "from kgap_shacl import validate_repository, ValidationReport"
   ]
  },
  {
   "cell_type": "markdown",
   "metadata": {},
   "source": [
    "## Example 1: Validate Entire Repository\n",
    "\n",
    "Validate all data in the default repository against all SHACL shapes."
   ]
  },
  {
   "cell_type": "code",
   "execution_count": null,
   "metadata": {},
   "outputs": [],
   "source": [
    "# Validate the entire repository\n",
    "report = validate_repository()\n",
    "\n",
    "# Print the report\n",
    "report.print_report()"
   ]
  },
  {
   "cell_type": "markdown",
   "metadata": {},
   "source": [
    "## Example 2: Check Validation Status\n",
    "\n",
    "Check if the validation passed and get the number of violations."
   ]
  },
  {
   "cell_type": "code",
   "execution_count": null,
   "metadata": {},
   "outputs": [],
   "source": [
    "report = validate_repository()\n",
    "\n",
    "if report.conforms:\n",
    "    print(\"✓ Validation PASSED - Data conforms to all SHACL shapes\")\n",
    "else:\n",
    "    print(f\"✗ Validation FAILED - Found {len(report.violations)} violations\")\n",
    "    print(\"\\nViolations:\")\n",
    "    for i, violation in enumerate(report.violations, 1):\n",
    "        print(f\"  {i}. {violation}\")"
   ]
  },
  {
   "cell_type": "markdown",
   "metadata": {},
   "source": [
    "## Example 3: Validate a Specific Named Graph\n",
    "\n",
    "If your data is organized in named graphs, you can validate a specific graph."
   ]
  },
  {
   "cell_type": "code",
   "execution_count": null,
   "metadata": {},
   "outputs": [],
   "source": [
    "# Validate a specific named graph\n",
    "graph_iri = \"http://example.org/my-data-graph\"\n",
    "report = validate_repository(named_graph=graph_iri)\n",
    "\n",
    "print(f\"Validating graph: {graph_iri}\")\n",
    "report.print_report()"
   ]
  },
  {
   "cell_type": "markdown",
   "metadata": {},
   "source": [
    "## Example 4: Load Sample Data and Shapes\n",
    "\n",
    "Let's load some sample SHACL shapes and data to demonstrate validation."
   ]
  },
  {
   "cell_type": "code",
   "execution_count": null,
   "metadata": {},
   "outputs": [],
   "source": [
    "import requests\n",
    "import os\n",
    "\n",
    "# Configuration\n",
    "graphdb_url = os.getenv('GDB_BASE', 'http://graphdb:7200/')\n",
    "repository = os.getenv('GDB_REPO', 'kgap')\n",
    "statements_url = f\"{graphdb_url}repositories/{repository}/statements\"\n",
    "\n",
    "# Load SHACL shapes\n",
    "person_shape = \"\"\"@prefix sh: <http://www.w3.org/ns/shacl#> .\n",
    "@prefix xsd: <http://www.w3.org/2001/XMLSchema#> .\n",
    "@prefix foaf: <http://xmlns.com/foaf/0.1/> .\n",
    "@prefix ex: <http://example.org/> .\n",
    "\n",
    "ex:PersonShape\n",
    "    a sh:NodeShape ;\n",
    "    sh:targetClass foaf:Person ;\n",
    "    sh:property [\n",
    "        sh:path foaf:name ;\n",
    "        sh:minCount 1 ;\n",
    "        sh:datatype xsd:string ;\n",
    "    ] ;\n",
    "    sh:property [\n",
    "        sh:path foaf:age ;\n",
    "        sh:maxCount 1 ;\n",
    "        sh:datatype xsd:integer ;\n",
    "        sh:minInclusive 0 ;\n",
    "        sh:maxInclusive 150 ;\n",
    "    ] .\n",
    "\"\"\"\n",
    "\n",
    "# Load the shape\n",
    "response = requests.post(\n",
    "    statements_url,\n",
    "    headers={'Content-Type': 'text/turtle'},\n",
    "    data=person_shape\n",
    ")\n",
    "print(f\"Shapes loaded: {response.status_code}\")\n",
    "\n",
    "# Load valid sample data\n",
    "valid_data = \"\"\"@prefix foaf: <http://xmlns.com/foaf/0.1/> .\n",
    "@prefix ex: <http://example.org/> .\n",
    "\n",
    "ex:alice a foaf:Person ;\n",
    "    foaf:name \"Alice\" ;\n",
    "    foaf:age 30 .\n",
    "\"\"\"\n",
    "\n",
    "response = requests.post(\n",
    "    statements_url,\n",
    "    headers={'Content-Type': 'text/turtle'},\n",
    "    data=valid_data\n",
    ")\n",
    "print(f\"Valid data loaded: {response.status_code}\")\n",
    "\n",
    "# Load invalid sample data (missing required name)\n",
    "invalid_data = \"\"\"@prefix foaf: <http://xmlns.com/foaf/0.1/> .\n",
    "@prefix ex: <http://example.org/> .\n",
    "\n",
    "ex:bob a foaf:Person ;\n",
    "    foaf:age 25 .\n",
    "\"\"\"\n",
    "\n",
    "response = requests.post(\n",
    "    statements_url,\n",
    "    headers={'Content-Type': 'text/turtle'},\n",
    "    data=invalid_data\n",
    ")\n",
    "print(f\"Invalid data loaded: {response.status_code}\")"
   ]
  },
  {
   "cell_type": "markdown",
   "metadata": {},
   "source": [
    "## Example 5: Run Validation on Sample Data\n",
    "\n",
    "Now validate the data we just loaded. This should find a violation (Bob has no name)."
   ]
  },
  {
   "cell_type": "code",
   "execution_count": null,
   "metadata": {},
   "outputs": [],
   "source": [
    "report = validate_repository()\n",
    "report.print_report()\n",
    "\n",
    "# Should show a violation for ex:bob missing foaf:name"
   ]
  },
  {
   "cell_type": "markdown",
   "metadata": {},
   "source": [
    "## Example 6: Validate Different Repository\n",
    "\n",
    "You can specify a different repository name if you have multiple repositories."
   ]
  },
  {
   "cell_type": "code",
   "execution_count": null,
   "metadata": {},
   "outputs": [],
   "source": [
    "# Validate a different repository\n",
    "report = validate_repository(repository='other-repo')\n",
    "report.print_report()"
   ]
  },
  {
   "cell_type": "markdown",
   "metadata": {},
   "source": [
    "## Example 7: Get Different Report Formats\n",
    "\n",
    "SHACL validation reports can be retrieved in different RDF formats."
   ]
  },
  {
   "cell_type": "code",
   "execution_count": null,
   "metadata": {},
   "outputs": [],
   "source": [
    "# Get report in JSON-LD format\n",
    "report_jsonld = validate_repository(accept_format='application/ld+json')\n",
    "print(\"JSON-LD Report:\")\n",
    "print(report_jsonld.report_text[:500])  # Print first 500 chars\n",
    "\n",
    "# Get report in RDF/XML format\n",
    "report_xml = validate_repository(accept_format='application/rdf+xml')\n",
    "print(\"\\nRDF/XML Report:\")\n",
    "print(report_xml.report_text[:500])  # Print first 500 chars"
   ]
  },
  {
   "cell_type": "markdown",
   "metadata": {},
   "source": [
    "## Cleanup\n",
    "\n",
    "Remove the sample data and shapes we added."
   ]
  },
  {
   "cell_type": "code",
   "execution_count": null,
   "metadata": {},
   "outputs": [],
   "source": [
    "# Remove all triples with ex: namespace\n",
    "delete_query = \"\"\"PREFIX ex: <http://example.org/>\n",
    "DELETE WHERE {\n",
    "    ?s ?p ?o .\n",
    "    FILTER(STRSTARTS(STR(?s), \"http://example.org/\"))\n",
    "}\"\"\"\n",
    "\n",
    "response = requests.post(\n",
    "    f\"{graphdb_url}repositories/{repository}\",\n",
    "    headers={'Content-Type': 'application/sparql-update'},\n",
    "    data=delete_query\n",
    ")\n",
    "print(f\"Cleanup completed: {response.status_code}\")"
   ]
  },
  {
   "cell_type": "markdown",
   "metadata": {},
   "source": [
    "## Summary\n",
    "\n",
    "This notebook demonstrated:\n",
    "- How to validate an entire repository\n",
    "- How to validate specific named graphs\n",
    "- How to check validation status and violations\n",
    "- How to load SHACL shapes and test data\n",
    "- How to get validation reports in different formats\n",
    "\n",
    "For more information:\n",
    "- [SHACL Specification](https://www.w3.org/TR/shacl/)\n",
    "- [GraphDB SHACL Documentation](https://graphdb.ontotext.com/documentation/latest/shacl-validation.html)\n",
    "- [K-GAP GraphDB Component Documentation](../docs/components/graphdb.md)"
   ]
  }
 ],
 "metadata": {
  "kernelspec": {
   "display_name": "Python 3",
   "language": "python",
   "name": "python3"
  },
  "language_info": {
   "name": "python",
   "version": "3.9.0"
  }
 },
 "nbformat": 4,
 "nbformat_minor": 4
}
